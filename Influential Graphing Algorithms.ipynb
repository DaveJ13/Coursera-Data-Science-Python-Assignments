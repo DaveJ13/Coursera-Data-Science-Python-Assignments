{
 "cells": [
  {
   "cell_type": "markdown",
   "id": "b233dfe9",
   "metadata": {},
   "source": [
    "Connected Components\n",
    "\n",
    "Uses: Finding clusters In Data(Financial and Retail)\n",
    "\n",
    "Algorithm Example: (Between Cities)\n",
    "Example Data:\n",
    "edgelist = [['Mannheim', 'Frankfurt', 85], ['Mannheim', 'Karlsruhe', 80], ['Erfurt', 'Wurzburg', 186], ['Munchen', 'Numberg', 167], ['Munchen', 'Augsburg', 84], ['Munchen', 'Kassel', 502], ['Numberg', 'Stuttgart', 183], ['Numberg', 'Wurzburg', 103], ['Numberg', 'Munchen', 167], ['Stuttgart', 'Numberg', 183], ['Augsburg', 'Munchen', 84], ['Augsburg', 'Karlsruhe', 250], ['Kassel', 'Munchen', 502], ['Kassel', 'Frankfurt', 173], ['Frankfurt', 'Mannheim', 85], ['Frankfurt', 'Wurzburg', 217], ['Frankfurt', 'Kassel', 173], ['Wurzburg', 'Numberg', 103], ['Wurzburg', 'Erfurt', 186], ['Wurzburg', 'Frankfurt', 217], ['Karlsruhe', 'Mannheim', 80], ['Karlsruhe', 'Augsburg', 250],[\"Mumbai\", \"Delhi\",400],[\"Delhi\", \"Kolkata\",500],[\"Kolkata\", \"Bangalore\",600],[\"TX\", \"NY\",1200],[\"ALB\", \"NY\",800]]\n",
    "\n",
    "Creating the graph:\n",
    "g = nx.Graph()\n",
    "for edge in edgelist:\n",
    "    g.add_edge(edge[0],edge[1], weight = edge[2])\n",
    "    \n",
    "Connecting the components:\n",
    "for i, x in enumerate(nx.connected_components(g)):\n",
    "    print(\"cc\"+str(i)+\":\",x)\n",
    "------------------------------------------------------------\n",
    "cc0: {'Frankfurt', 'Kassel', 'Munchen', 'Numberg', 'Erfurt', 'Stuttgart', 'Karlsruhe', 'Wurzburg', 'Mannheim', 'Augsburg'}\n",
    "cc1: {'Kolkata', 'Bangalore', 'Mumbai', 'Delhi'}\n",
    "cc2: {'ALB', 'NY', 'TX'}"
   ]
  },
  {
   "cell_type": "markdown",
   "id": "1d0bbecd",
   "metadata": {},
   "source": [
    "Shortest Path\n",
    "\n",
    "Uses: Finding shortest distances between two points(Google Maps, Grocery Stores)\n",
    "\n",
    "Algorithm Example: (Also called Dijsktra)\n",
    "Using the same edgelist\n",
    "print(nx.shortest_path(g, 'Stuttgart','Frankfurt',weight='weight'))\n",
    "print(nx.shortest_path_length(g, 'Stuttgart','Frankfurt',weight='weight'))\n",
    "--------------------------------------------------------\n",
    "['Stuttgart', 'Numberg', 'Wurzburg', 'Frankfurt']\n",
    "503\n",
    "Finding distances between pairs:\n",
    "for x in nx.all_pairs_dijkstra_path(g,weight='weight'):\n",
    "    print(x)\n",
    "--------------------------------------------------------\n",
    "('Mannheim', {'Mannheim': ['Mannheim'], 'Frankfurt': ['Mannheim', 'Frankfurt'], 'Karlsruhe': ['Mannheim', 'Karlsruhe'], 'Augsburg': ['Mannheim', 'Karlsruhe', 'Augsburg'], 'Kassel': ['Mannheim', 'Frankfurt', 'Kassel'], 'Wurzburg': ['Mannheim', 'Frankfurt', 'Wurzburg'], 'Munchen': ['Mannheim', 'Karlsruhe', 'Augsburg', 'Munchen'], 'Erfurt': ['Mannheim', 'Frankfurt', 'Wurzburg', 'Erfurt'], 'Numberg': ['Mannheim', 'Frankfurt', 'Wurzburg', 'Numberg'], 'Stuttgart': ['Mannheim', 'Frankfurt', 'Wurzburg', 'Numberg', 'Stuttgart']})\n",
    "('Frankfurt', {'Frankfurt': ['Frankfurt'], 'Mannheim': ['Frankfurt', 'Mannheim'], 'Kassel': ['Frankfurt', 'Kassel'], 'Wurzburg': ['Frankfurt', 'Wurzburg'], 'Karlsruhe': ['Frankfurt', 'Mannheim', 'Karlsruhe'], 'Augsburg': ['Frankfurt', 'Mannheim', 'Karlsruhe', 'Augsburg'], 'Munchen': ['Frankfurt', 'Wurzburg', 'Numberg', 'Munchen'], 'Erfurt': ['Frankfurt', 'Wurzburg', 'Erfurt'], 'Numberg': ['Frankfurt', 'Wurzburg', 'Numberg'], 'Stuttgart': ['Frankfurt', 'Wurzburg', 'Numberg', 'Stuttgart']})\n",
    "\n"
   ]
  },
  {
   "cell_type": "markdown",
   "id": "7b6f5388",
   "metadata": {},
   "source": [
    "Minimum Spanning Tree\n",
    "\n",
    "Uses: Network Designs(Computer, Telecommunications, Transportation, Water, Electrical, etc.)\n",
    "Using the same edgelist\n",
    "Code:\n",
    "nx.minimum_spanning_tree(g) returns a instance of type graph\n",
    "nx.draw_networkx(nx.minimum_spanning_tree(g))\n"
   ]
  },
  {
   "cell_type": "markdown",
   "id": "fbf1fe81",
   "metadata": {},
   "source": [
    "Pagerank\n",
    "\n",
    "Uses: Testing node importance on a network(Recommendation Engines)\n",
    "\n",
    "Code:\n",
    "Reading the dataset(example)\n",
    "fb = nx.read_edgelist('../input/facebook-combined.txt', create_using = nx.Graph(), nodetype = int)\n",
    "\n",
    "Creating the graph:\n",
    "pos = nx.spring_layout(fb)\n",
    "import warnings\n",
    "warnings.filterwarnings('ignore')\n",
    "plt.style.use('fivethirtyeight')\n",
    "plt.rcParams['figure.figsize'] = (20, 15)\n",
    "plt.axis('off')\n",
    "nx.draw_networkx(fb, pos, with_labels = False, node_size = 35)\n",
    "plt.show()\n",
    "\n"
   ]
  },
  {
   "cell_type": "markdown",
   "id": "5e1aaee4",
   "metadata": {},
   "source": [
    "Centrality Measures\n",
    "\n",
    "Uses: Can be used as a feature in any machine learning model\n",
    "\n",
    "Code for finding the betweenness centrality for the subgraph:\n",
    "pos = nx.spring_layout(subgraph_3437)\n",
    "betweennessCentrality = nx.betweenness_centrality(subgraph_3437,normalized=True, endpoints=True)\n",
    "node_size =  [v * 10000 for v in betweennessCentrality.values()]\n",
    "plt.figure(figsize=(20,20))\n",
    "nx.draw_networkx(subgraph_3437, pos=pos, with_labels=False,\n",
    "                 node_size=node_size )\n",
    "plt.axis('off')"
   ]
  },
  {
   "cell_type": "code",
   "execution_count": null,
   "id": "970fb253",
   "metadata": {},
   "outputs": [],
   "source": []
  }
 ],
 "metadata": {
  "kernelspec": {
   "display_name": "Python 3 (ipykernel)",
   "language": "python",
   "name": "python3"
  },
  "language_info": {
   "codemirror_mode": {
    "name": "ipython",
    "version": 3
   },
   "file_extension": ".py",
   "mimetype": "text/x-python",
   "name": "python",
   "nbconvert_exporter": "python",
   "pygments_lexer": "ipython3",
   "version": "3.9.7"
  }
 },
 "nbformat": 4,
 "nbformat_minor": 5
}
