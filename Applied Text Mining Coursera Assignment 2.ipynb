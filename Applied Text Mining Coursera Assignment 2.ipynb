{
 "cells": [
  {
   "cell_type": "markdown",
   "id": "e3e4aade",
   "metadata": {},
   "source": [
    "# Assignment 2 - Introduction to NLTK"
   ]
  },
  {
   "cell_type": "markdown",
   "id": "9d8f711b",
   "metadata": {},
   "source": [
    "In part 1 of this assignment you will use nltk to explore the Herman Melville novel Moby Dick. Then in part 2 you will create a spelling recommender function that uses nltk to find words similar to the misspelling."
   ]
  },
  {
   "cell_type": "markdown",
   "id": "2a3d4705",
   "metadata": {},
   "source": [
    "### Part 1 - Analyzing Moby Dick"
   ]
  },
  {
   "cell_type": "code",
   "execution_count": 2,
   "id": "d6e1aece",
   "metadata": {},
   "outputs": [
    {
     "name": "stderr",
     "output_type": "stream",
     "text": [
      "[nltk_data] Downloading package punkt to\n",
      "[nltk_data]     C:\\Users\\Administrator\\AppData\\Roaming\\nltk_data...\n",
      "[nltk_data]   Package punkt is already up-to-date!\n"
     ]
    }
   ],
   "source": [
    "import nltk\n",
    "nltk.download('punkt')\n",
    "import pandas as pd\n",
    "import numpy as np\n",
    "\n",
    "# If you would like to work with the raw text you can use 'moby_raw'\n",
    "with open('moby.txt', 'r') as f:\n",
    "    moby_raw = f.read()\n",
    "    \n",
    "# If you would like to work with the novel in nltk.Text format you can use 'text1'\n",
    "moby_tokens = nltk.word_tokenize(moby_raw)\n",
    "text1 = nltk.Text(moby_tokens)"
   ]
  },
  {
   "cell_type": "markdown",
   "id": "8f14a231",
   "metadata": {},
   "source": [
    "### Example 1"
   ]
  },
  {
   "cell_type": "markdown",
   "id": "1e2933c9",
   "metadata": {},
   "source": [
    "How many tokens (words and punctuation symbols) are in text1?\n",
    "\n",
    "This function should return an integer."
   ]
  },
  {
   "cell_type": "code",
   "execution_count": 3,
   "id": "a8f8b707",
   "metadata": {},
   "outputs": [
    {
     "data": {
      "text/plain": [
       "255028"
      ]
     },
     "execution_count": 3,
     "metadata": {},
     "output_type": "execute_result"
    }
   ],
   "source": [
    "def example_one():\n",
    "    \n",
    "    return len(nltk.word_tokenize(moby_raw)) # or alternatively len(text1)\n",
    "\n",
    "example_one()"
   ]
  },
  {
   "cell_type": "markdown",
   "id": "723ae908",
   "metadata": {},
   "source": [
    "### Example 2"
   ]
  },
  {
   "cell_type": "markdown",
   "id": "e255a8dc",
   "metadata": {},
   "source": [
    "How many unique tokens (unique words and punctuation) does text1 have?\n",
    "\n",
    "This function should return an integer."
   ]
  },
  {
   "cell_type": "code",
   "execution_count": 4,
   "id": "d63e1774",
   "metadata": {},
   "outputs": [
    {
     "data": {
      "text/plain": [
       "20742"
      ]
     },
     "execution_count": 4,
     "metadata": {},
     "output_type": "execute_result"
    }
   ],
   "source": [
    "def example_two():\n",
    "    \n",
    "    return len(set(nltk.word_tokenize(moby_raw))) # or alternatively len(set(text1))\n",
    "\n",
    "example_two()"
   ]
  },
  {
   "cell_type": "markdown",
   "id": "7e3f7995",
   "metadata": {},
   "source": [
    "### Example 3"
   ]
  },
  {
   "cell_type": "markdown",
   "id": "cdf541ab",
   "metadata": {},
   "source": [
    "After lemmatizing the verbs, how many unique tokens does text1 have?\n",
    "\n",
    "This function should return an integer."
   ]
  },
  {
   "cell_type": "code",
   "execution_count": 5,
   "id": "9b002cab",
   "metadata": {},
   "outputs": [
    {
     "name": "stderr",
     "output_type": "stream",
     "text": [
      "[nltk_data] Downloading package wordnet to\n",
      "[nltk_data]     C:\\Users\\Administrator\\AppData\\Roaming\\nltk_data...\n",
      "[nltk_data]   Package wordnet is already up-to-date!\n"
     ]
    },
    {
     "data": {
      "text/plain": [
       "16887"
      ]
     },
     "execution_count": 5,
     "metadata": {},
     "output_type": "execute_result"
    }
   ],
   "source": [
    "nltk.download('wordnet')\n",
    "from nltk.stem import WordNetLemmatizer\n",
    "\n",
    "def example_three():\n",
    "\n",
    "    lemmatizer = WordNetLemmatizer()\n",
    "    lemmatized = [lemmatizer.lemmatize(w,'v') for w in text1]\n",
    "\n",
    "    return len(set(lemmatized))\n",
    "\n",
    "example_three()"
   ]
  },
  {
   "cell_type": "markdown",
   "id": "39d17a06",
   "metadata": {},
   "source": [
    "### Question 1"
   ]
  },
  {
   "cell_type": "markdown",
   "id": "4fcfcc45",
   "metadata": {},
   "source": [
    "What is the lexical diversity of the given text input? (i.e. ratio of unique tokens to the total number of tokens)\n",
    "\n",
    "This function should return a float."
   ]
  },
  {
   "cell_type": "code",
   "execution_count": 6,
   "id": "84959a33",
   "metadata": {},
   "outputs": [
    {
     "data": {
      "text/plain": [
       "0.08133224587104161"
      ]
     },
     "execution_count": 6,
     "metadata": {},
     "output_type": "execute_result"
    }
   ],
   "source": [
    "def answer_one():\n",
    "    a = len(nltk.word_tokenize(moby_raw))\n",
    "    b = len(set(nltk.word_tokenize(moby_raw)))\n",
    "    c = b/a\n",
    "    \n",
    "    return c\n",
    "\n",
    "answer_one()"
   ]
  },
  {
   "cell_type": "markdown",
   "id": "7b91794b",
   "metadata": {},
   "source": [
    "### Question 2"
   ]
  },
  {
   "cell_type": "markdown",
   "id": "b68e6a09",
   "metadata": {},
   "source": [
    "What percentage of tokens is 'whale'or 'Whale'?\n",
    "\n",
    "This function should return a float"
   ]
  },
  {
   "cell_type": "code",
   "execution_count": 7,
   "id": "f773b0a3",
   "metadata": {},
   "outputs": [
    {
     "data": {
      "text/plain": [
       "0.4125037250811676"
      ]
     },
     "execution_count": 7,
     "metadata": {},
     "output_type": "execute_result"
    }
   ],
   "source": [
    "def answer_two():\n",
    "    from nltk.probability import FreqDist\n",
    "    dist = FreqDist(text1)\n",
    "    dist1 = dist[\"whale\"]\n",
    "    dist2 = dist[\"Whale\"]\n",
    "    dist3 = dist1 + dist2\n",
    "    \n",
    "    return dist3/len(text1) * 100\n",
    "\n",
    "answer_two()"
   ]
  },
  {
   "cell_type": "markdown",
   "id": "34d57c3c",
   "metadata": {},
   "source": [
    "### Question 3"
   ]
  },
  {
   "cell_type": "markdown",
   "id": "51d3c99c",
   "metadata": {},
   "source": [
    "What are the 20 most frequently occurring (unique) tokens in the text? What is their frequency?\n",
    "\n",
    "This function should return a list of 20 tuples where each tuple is of the form (token, frequency). The list should be sorted in descending order of frequency."
   ]
  },
  {
   "cell_type": "code",
   "execution_count": 8,
   "id": "004e08cd",
   "metadata": {},
   "outputs": [
    {
     "data": {
      "text/plain": [
       "[(',', 19204),\n",
       " ('the', 13715),\n",
       " ('.', 7306),\n",
       " ('of', 6513),\n",
       " ('and', 6010),\n",
       " ('a', 4545),\n",
       " ('to', 4515),\n",
       " (';', 4173),\n",
       " ('in', 3908),\n",
       " ('that', 2978),\n",
       " ('his', 2459),\n",
       " ('it', 2196),\n",
       " ('I', 2113),\n",
       " ('!', 1767),\n",
       " ('is', 1722),\n",
       " ('--', 1713),\n",
       " ('with', 1659),\n",
       " ('he', 1658),\n",
       " ('was', 1639),\n",
       " ('as', 1620)]"
      ]
     },
     "execution_count": 8,
     "metadata": {},
     "output_type": "execute_result"
    }
   ],
   "source": [
    "def answer_three():\n",
    "    a = nltk.FreqDist(text1).most_common(20)\n",
    "    \n",
    "    return a\n",
    "\n",
    "answer_three()"
   ]
  },
  {
   "cell_type": "markdown",
   "id": "fb87b4ad",
   "metadata": {},
   "source": [
    "### Question 4"
   ]
  },
  {
   "cell_type": "markdown",
   "id": "b244906b",
   "metadata": {},
   "source": [
    "What tokens have a length of greater than 5 and frequency of more than 150?\n",
    "\n",
    "This function should return an alphabetically sorted list of the tokens that match the above constraints. To sort your list, use sorted()"
   ]
  },
  {
   "cell_type": "code",
   "execution_count": 9,
   "id": "8d9a36fd",
   "metadata": {},
   "outputs": [
    {
     "data": {
      "text/plain": [
       "['Captain',\n",
       " 'Pequod',\n",
       " 'Queequeg',\n",
       " 'Starbuck',\n",
       " 'almost',\n",
       " 'before',\n",
       " 'himself',\n",
       " 'little',\n",
       " 'seemed',\n",
       " 'should',\n",
       " 'though',\n",
       " 'through',\n",
       " 'whales',\n",
       " 'without']"
      ]
     },
     "execution_count": 9,
     "metadata": {},
     "output_type": "execute_result"
    }
   ],
   "source": [
    "from nltk.probability import FreqDist\n",
    "def answer_four():\n",
    "    from nltk.probability import FreqDist\n",
    "    dist = FreqDist(text1)\n",
    "    vocab1 = dist.keys()\n",
    "    freqwords = [w for w in vocab1 if len(w) > 5 and dist[w] > 150]\n",
    "    freqwords.sort()\n",
    "    return freqwords\n",
    "\n",
    "answer_four()"
   ]
  },
  {
   "cell_type": "markdown",
   "id": "b98eee52",
   "metadata": {},
   "source": [
    "### Question 5"
   ]
  },
  {
   "cell_type": "markdown",
   "id": "7cacb300",
   "metadata": {},
   "source": [
    "Find the longest word in text1 and that word's length.\n",
    "\n",
    "This function should return a tuple (longest_word, length)."
   ]
  },
  {
   "cell_type": "code",
   "execution_count": 10,
   "id": "e9c3bd38",
   "metadata": {},
   "outputs": [
    {
     "data": {
      "text/plain": [
       "(\"twelve-o'clock-at-night\", 23)"
      ]
     },
     "execution_count": 10,
     "metadata": {},
     "output_type": "execute_result"
    }
   ],
   "source": [
    "def answer_five():\n",
    "    max_l = max(len(w) for w in text1)\n",
    "    a = [w for w in text1 if len(w) == max_l]\n",
    "    b = (a[0], max_l)\n",
    "    \n",
    "    return b\n",
    "\n",
    "answer_five()"
   ]
  },
  {
   "cell_type": "markdown",
   "id": "50a11b85",
   "metadata": {},
   "source": [
    "### Question 6"
   ]
  },
  {
   "cell_type": "markdown",
   "id": "f78507d2",
   "metadata": {},
   "source": [
    "What unique words have a frequency of more than 2000? What is their frequency?\n",
    "\n",
    "\"Hint: you may want to use isalpha() to check if the token is a word and not punctuation.\"\n",
    "\n",
    "This function should return a list of tuples of the form (frequency, word) sorted in descending order of frequency."
   ]
  },
  {
   "cell_type": "code",
   "execution_count": 11,
   "id": "fca69b33",
   "metadata": {},
   "outputs": [
    {
     "data": {
      "text/plain": [
       "[(13715, 'the'),\n",
       " (6513, 'of'),\n",
       " (6010, 'and'),\n",
       " (4545, 'a'),\n",
       " (4515, 'to'),\n",
       " (3908, 'in'),\n",
       " (2978, 'that'),\n",
       " (2459, 'his'),\n",
       " (2196, 'it'),\n",
       " (2113, 'I')]"
      ]
     },
     "execution_count": 11,
     "metadata": {},
     "output_type": "execute_result"
    }
   ],
   "source": [
    "def answer_six():\n",
    "    from nltk.probability import FreqDist\n",
    "    a = FreqDist(text1)\n",
    "    b = [(a[w], w) for w in set(text1) if w.isalpha() and a[w] > 2000]\n",
    "    c = sorted(b, key = lambda x: x[0], reverse = True)\n",
    "    return c\n",
    "\n",
    "answer_six()"
   ]
  },
  {
   "cell_type": "markdown",
   "id": "ba2be25a",
   "metadata": {},
   "source": [
    "### Question 7"
   ]
  },
  {
   "cell_type": "markdown",
   "id": "7809f86e",
   "metadata": {},
   "source": [
    "What is the average number of tokens per sentence?\n",
    "\n",
    "This function should return a float."
   ]
  },
  {
   "cell_type": "code",
   "execution_count": 12,
   "id": "6e0fab26",
   "metadata": {},
   "outputs": [
    {
     "data": {
      "text/plain": [
       "25.88591149005278"
      ]
     },
     "execution_count": 12,
     "metadata": {},
     "output_type": "execute_result"
    }
   ],
   "source": [
    "def answer_seven():\n",
    "    text11 = nltk.sent_tokenize(moby_raw)\n",
    "    answer = len(text1)/ len(text11)\n",
    "    \n",
    "    return answer\n",
    "\n",
    "answer_seven()"
   ]
  },
  {
   "cell_type": "markdown",
   "id": "7d0b48d9",
   "metadata": {},
   "source": [
    "### Question 8"
   ]
  },
  {
   "cell_type": "markdown",
   "id": "dfb975e9",
   "metadata": {},
   "source": [
    "What are the 5 most frequent parts of speech in this text? What is their frequency?\n",
    "\n",
    "This function should return a list of tuples of the form (part_of_speech, frequency) sorted in descending order of frequency."
   ]
  },
  {
   "cell_type": "code",
   "execution_count": 13,
   "id": "9c1ed0ea",
   "metadata": {},
   "outputs": [
    {
     "name": "stderr",
     "output_type": "stream",
     "text": [
      "[nltk_data] Downloading package averaged_perceptron_tagger to\n",
      "[nltk_data]     C:\\Users\\Administrator\\AppData\\Roaming\\nltk_data...\n",
      "[nltk_data]   Package averaged_perceptron_tagger is already up-to-\n",
      "[nltk_data]       date!\n"
     ]
    },
    {
     "data": {
      "text/plain": [
       "[('NN', 32727), ('IN', 28662), ('DT', 25879), (',', 19204), ('JJ', 17613)]"
      ]
     },
     "execution_count": 13,
     "metadata": {},
     "output_type": "execute_result"
    }
   ],
   "source": [
    "nltk.download('averaged_perceptron_tagger')\n",
    "def answer_eight():\n",
    "    import collections as co\n",
    "    part_list = nltk.pos_tag(text1)\n",
    "    part_counts = co.Counter((sub1[1] for sub1 in part_list))\n",
    "    a = part_counts.most_common(5)\n",
    "    \n",
    "    return a\n",
    "\n",
    "answer_eight()"
   ]
  },
  {
   "cell_type": "markdown",
   "id": "cea94457",
   "metadata": {},
   "source": [
    "## Part 2 - Spelling Recommender"
   ]
  },
  {
   "cell_type": "markdown",
   "id": "05b41886",
   "metadata": {},
   "source": [
    "For this part of the assignment you will create three different spelling recommenders, that each take a list of misspelled words and recommends a correctly spelled word for every word in the list.\n",
    "\n",
    "For every misspelled word, the recommender should find find the word in correct_spellings that has the shortest distance*, and starts with the same letter as the misspelled word, and return that word as a recommendation.\n",
    "\n",
    "*Each of the three different recommenders will use a different distance measure (outlined below).\n",
    "\n",
    "Each of the recommenders should provide recommendations for the three default words provided: ['cormulent', 'incendenece', 'validrate']."
   ]
  },
  {
   "cell_type": "code",
   "execution_count": 14,
   "id": "f1d4c212",
   "metadata": {},
   "outputs": [
    {
     "name": "stderr",
     "output_type": "stream",
     "text": [
      "[nltk_data] Downloading package words to\n",
      "[nltk_data]     C:\\Users\\Administrator\\AppData\\Roaming\\nltk_data...\n",
      "[nltk_data]   Unzipping corpora\\words.zip.\n"
     ]
    }
   ],
   "source": [
    "nltk.download('words')\n",
    "from nltk.corpus import words\n",
    "\n",
    "correct_spellings = words.words()"
   ]
  },
  {
   "cell_type": "markdown",
   "id": "d9f88212",
   "metadata": {},
   "source": [
    "### Question 9"
   ]
  },
  {
   "cell_type": "markdown",
   "id": "1d1364e8",
   "metadata": {},
   "source": [
    "For this recommender, your function should provide recommendations for the three default words provided above using the following distance metric:\n",
    "\n",
    "Jaccard distance on the trigrams of the two words.\n",
    "\n",
    "This function should return a list of length three: ['cormulent_reccomendation', 'incendenece_reccomendation', 'validrate_reccomendation']."
   ]
  },
  {
   "cell_type": "code",
   "execution_count": 15,
   "id": "5eadce93",
   "metadata": {},
   "outputs": [
    {
     "data": {
      "text/plain": [
       "['corpulent', 'indecence', 'validate']"
      ]
     },
     "execution_count": 15,
     "metadata": {},
     "output_type": "execute_result"
    }
   ],
   "source": [
    "from nltk.corpus import words\n",
    "from nltk.metrics.distance import jaccard_distance\n",
    "from nltk.util import ngrams\n",
    "from nltk.metrics.distance import edit_distance\n",
    "def answer_nine(entries=['cormulent', 'incendenece', 'validrate']):\n",
    "    correct_spellings = words.words()\n",
    "    answer = []\n",
    "    for entry in entries:\n",
    "        temp = [(jaccard_distance(set(ngrams(entry, 3)), set(ngrams(w, 3))), w) for w in correct_spellings if w[0] == entry[0]]\n",
    "        x = sorted(temp, key = lambda val:val[0])[0][1]\n",
    "        answer.append(x)\n",
    "    return answer\n",
    "    \n",
    "answer_nine()"
   ]
  },
  {
   "cell_type": "markdown",
   "id": "da4c2a76",
   "metadata": {},
   "source": [
    "### Question 10"
   ]
  },
  {
   "cell_type": "markdown",
   "id": "727f45cc",
   "metadata": {},
   "source": [
    "For this recommender, your function should provide recommendations for the three default words provided above using the following distance metric:\n",
    "\n",
    "Jaccard distance on the 4-grams of the two words.\n",
    "\n",
    "This function should return a list of length three: ['cormulent_reccomendation', 'incendenece_reccomendation', 'validrate_reccomendation']."
   ]
  },
  {
   "cell_type": "code",
   "execution_count": 16,
   "id": "bf13062a",
   "metadata": {},
   "outputs": [
    {
     "data": {
      "text/plain": [
       "['cormus', 'incendiary', 'valid']"
      ]
     },
     "execution_count": 16,
     "metadata": {},
     "output_type": "execute_result"
    }
   ],
   "source": [
    "def answer_ten(entries=['cormulent', 'incendenece', 'validrate']):\n",
    "    correct_spellings = words.words()\n",
    "    answer = []\n",
    "    for entry in entries:\n",
    "        temp = [(jaccard_distance(set(ngrams(entry, 4)), set(ngrams(w, 4))), w) for w in correct_spellings if w[0] == entry[0]]\n",
    "        x = sorted(temp, key = lambda val:val[0])[0][1]\n",
    "        answer.append(x)\n",
    "    return answer\n",
    "    \n",
    "    return # Your answer here\n",
    "    \n",
    "answer_ten()"
   ]
  },
  {
   "cell_type": "markdown",
   "id": "63845aeb",
   "metadata": {},
   "source": [
    "### Question 11"
   ]
  },
  {
   "cell_type": "markdown",
   "id": "75b53491",
   "metadata": {},
   "source": [
    "For this recommender, your function should provide recommendations for the three default words provided above using the following distance metric:\n",
    "\n",
    "Edit distance on the two words with transpositions.\n",
    "\n",
    "This function should return a list of length three: ['cormulent_reccomendation', 'incendenece_reccomendation', 'validrate_reccomendation']."
   ]
  },
  {
   "cell_type": "code",
   "execution_count": 17,
   "id": "f8bac428",
   "metadata": {},
   "outputs": [
    {
     "data": {
      "text/plain": [
       "['corpulent', 'intendence', 'validate']"
      ]
     },
     "execution_count": 17,
     "metadata": {},
     "output_type": "execute_result"
    }
   ],
   "source": [
    "def answer_eleven(entries=['cormulent', 'incendenece', 'validrate']):\n",
    "    spell = words.words()\n",
    "    answer = []\n",
    "    for entry in entries:\n",
    "        input1 = [x for x in spell if x[0] == entry[0]]\n",
    "        dist = [nltk.edit_distance(x, entry, transpositions = True) for x in input1]\n",
    "        answer.append(input1[np.argmin(dist)])\n",
    "        \n",
    "    return answer\n",
    "    \n",
    "answer_eleven()"
   ]
  },
  {
   "cell_type": "code",
   "execution_count": null,
   "id": "3bf44d51",
   "metadata": {},
   "outputs": [],
   "source": []
  }
 ],
 "metadata": {
  "kernelspec": {
   "display_name": "Python 3 (ipykernel)",
   "language": "python",
   "name": "python3"
  },
  "language_info": {
   "codemirror_mode": {
    "name": "ipython",
    "version": 3
   },
   "file_extension": ".py",
   "mimetype": "text/x-python",
   "name": "python",
   "nbconvert_exporter": "python",
   "pygments_lexer": "ipython3",
   "version": "3.9.7"
  }
 },
 "nbformat": 4,
 "nbformat_minor": 5
}
