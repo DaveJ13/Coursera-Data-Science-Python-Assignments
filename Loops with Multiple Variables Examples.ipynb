{
 "cells": [
  {
   "cell_type": "markdown",
   "id": "0388a9ae",
   "metadata": {},
   "source": [
    "For this assignment you'll be looking at 2017 data on immunizations from the CDC. Your datafile for this assignment is in assets/NISPUF17.csv. A data users guide for this, which you'll need to map the variables in the data to the questions being asked, is available at assets/NIS-PUF17-DUG.pdf. Note: you may have to go to your Jupyter tree (click on the Coursera image) and navigate to the assignment 2 assets folder to see this PDF file)."
   ]
  },
  {
   "cell_type": "markdown",
   "id": "a32de9c4",
   "metadata": {},
   "source": [
    "Write a function called proportion_of_education which returns the proportion of children in the dataset who had a mother with the education levels equal to less than high school (<12), high school (12), more than high school but not a college graduate (>12) and college degree."
   ]
  },
  {
   "cell_type": "code",
   "execution_count": 1,
   "id": "28f719c2",
   "metadata": {},
   "outputs": [
    {
     "data": {
      "text/html": [
       "<div>\n",
       "<style scoped>\n",
       "    .dataframe tbody tr th:only-of-type {\n",
       "        vertical-align: middle;\n",
       "    }\n",
       "\n",
       "    .dataframe tbody tr th {\n",
       "        vertical-align: top;\n",
       "    }\n",
       "\n",
       "    .dataframe thead th {\n",
       "        text-align: right;\n",
       "    }\n",
       "</style>\n",
       "<table border=\"1\" class=\"dataframe\">\n",
       "  <thead>\n",
       "    <tr style=\"text-align: right;\">\n",
       "      <th></th>\n",
       "      <th>Unnamed: 0</th>\n",
       "      <th>SEQNUMC</th>\n",
       "      <th>SEQNUMHH</th>\n",
       "      <th>PDAT</th>\n",
       "      <th>PROVWT_D</th>\n",
       "      <th>RDDWT_D</th>\n",
       "      <th>STRATUM</th>\n",
       "      <th>YEAR</th>\n",
       "      <th>AGECPOXR</th>\n",
       "      <th>HAD_CPOX</th>\n",
       "      <th>...</th>\n",
       "      <th>XVRCTY2</th>\n",
       "      <th>XVRCTY3</th>\n",
       "      <th>XVRCTY4</th>\n",
       "      <th>XVRCTY5</th>\n",
       "      <th>XVRCTY6</th>\n",
       "      <th>XVRCTY7</th>\n",
       "      <th>XVRCTY8</th>\n",
       "      <th>XVRCTY9</th>\n",
       "      <th>INS_STAT2_I</th>\n",
       "      <th>INS_BREAK_I</th>\n",
       "    </tr>\n",
       "  </thead>\n",
       "  <tbody>\n",
       "    <tr>\n",
       "      <th>0</th>\n",
       "      <td>1</td>\n",
       "      <td>128521</td>\n",
       "      <td>12852</td>\n",
       "      <td>2</td>\n",
       "      <td>NaN</td>\n",
       "      <td>235.916956</td>\n",
       "      <td>1031</td>\n",
       "      <td>2017</td>\n",
       "      <td>NaN</td>\n",
       "      <td>2</td>\n",
       "      <td>...</td>\n",
       "      <td></td>\n",
       "      <td></td>\n",
       "      <td>NaN</td>\n",
       "      <td>NaN</td>\n",
       "      <td>NaN</td>\n",
       "      <td>NaN</td>\n",
       "      <td>NaN</td>\n",
       "      <td>NaN</td>\n",
       "      <td>NaN</td>\n",
       "      <td>NaN</td>\n",
       "    </tr>\n",
       "    <tr>\n",
       "      <th>1</th>\n",
       "      <td>2</td>\n",
       "      <td>10741</td>\n",
       "      <td>1074</td>\n",
       "      <td>2</td>\n",
       "      <td>NaN</td>\n",
       "      <td>957.353840</td>\n",
       "      <td>1068</td>\n",
       "      <td>2017</td>\n",
       "      <td>NaN</td>\n",
       "      <td>2</td>\n",
       "      <td>...</td>\n",
       "      <td></td>\n",
       "      <td></td>\n",
       "      <td>NaN</td>\n",
       "      <td>NaN</td>\n",
       "      <td>NaN</td>\n",
       "      <td>NaN</td>\n",
       "      <td>NaN</td>\n",
       "      <td>NaN</td>\n",
       "      <td>NaN</td>\n",
       "      <td>NaN</td>\n",
       "    </tr>\n",
       "    <tr>\n",
       "      <th>2</th>\n",
       "      <td>3</td>\n",
       "      <td>220011</td>\n",
       "      <td>22001</td>\n",
       "      <td>2</td>\n",
       "      <td>NaN</td>\n",
       "      <td>189.611299</td>\n",
       "      <td>1050</td>\n",
       "      <td>2017</td>\n",
       "      <td>NaN</td>\n",
       "      <td>2</td>\n",
       "      <td>...</td>\n",
       "      <td></td>\n",
       "      <td></td>\n",
       "      <td>NaN</td>\n",
       "      <td>NaN</td>\n",
       "      <td>NaN</td>\n",
       "      <td>NaN</td>\n",
       "      <td>NaN</td>\n",
       "      <td>NaN</td>\n",
       "      <td>NaN</td>\n",
       "      <td>NaN</td>\n",
       "    </tr>\n",
       "    <tr>\n",
       "      <th>3</th>\n",
       "      <td>4</td>\n",
       "      <td>86131</td>\n",
       "      <td>8613</td>\n",
       "      <td>1</td>\n",
       "      <td>675.430817</td>\n",
       "      <td>333.447419</td>\n",
       "      <td>1040</td>\n",
       "      <td>2017</td>\n",
       "      <td>NaN</td>\n",
       "      <td>2</td>\n",
       "      <td>...</td>\n",
       "      <td></td>\n",
       "      <td></td>\n",
       "      <td>NaN</td>\n",
       "      <td>NaN</td>\n",
       "      <td>NaN</td>\n",
       "      <td>NaN</td>\n",
       "      <td>NaN</td>\n",
       "      <td>NaN</td>\n",
       "      <td>1.0</td>\n",
       "      <td>2.0</td>\n",
       "    </tr>\n",
       "    <tr>\n",
       "      <th>4</th>\n",
       "      <td>5</td>\n",
       "      <td>227141</td>\n",
       "      <td>22714</td>\n",
       "      <td>1</td>\n",
       "      <td>482.617748</td>\n",
       "      <td>278.768063</td>\n",
       "      <td>1008</td>\n",
       "      <td>2017</td>\n",
       "      <td>NaN</td>\n",
       "      <td>2</td>\n",
       "      <td>...</td>\n",
       "      <td></td>\n",
       "      <td></td>\n",
       "      <td>NaN</td>\n",
       "      <td>NaN</td>\n",
       "      <td>NaN</td>\n",
       "      <td>NaN</td>\n",
       "      <td>NaN</td>\n",
       "      <td>NaN</td>\n",
       "      <td>2.0</td>\n",
       "      <td>1.0</td>\n",
       "    </tr>\n",
       "  </tbody>\n",
       "</table>\n",
       "<p>5 rows × 454 columns</p>\n",
       "</div>"
      ],
      "text/plain": [
       "   Unnamed: 0  SEQNUMC  SEQNUMHH  PDAT    PROVWT_D     RDDWT_D  STRATUM  YEAR  \\\n",
       "0           1   128521     12852     2         NaN  235.916956     1031  2017   \n",
       "1           2    10741      1074     2         NaN  957.353840     1068  2017   \n",
       "2           3   220011     22001     2         NaN  189.611299     1050  2017   \n",
       "3           4    86131      8613     1  675.430817  333.447419     1040  2017   \n",
       "4           5   227141     22714     1  482.617748  278.768063     1008  2017   \n",
       "\n",
       "   AGECPOXR  HAD_CPOX  ...  XVRCTY2  XVRCTY3  XVRCTY4  XVRCTY5  XVRCTY6  \\\n",
       "0       NaN         2  ...                        NaN      NaN      NaN   \n",
       "1       NaN         2  ...                        NaN      NaN      NaN   \n",
       "2       NaN         2  ...                        NaN      NaN      NaN   \n",
       "3       NaN         2  ...                        NaN      NaN      NaN   \n",
       "4       NaN         2  ...                        NaN      NaN      NaN   \n",
       "\n",
       "   XVRCTY7  XVRCTY8  XVRCTY9  INS_STAT2_I  INS_BREAK_I  \n",
       "0      NaN      NaN      NaN          NaN          NaN  \n",
       "1      NaN      NaN      NaN          NaN          NaN  \n",
       "2      NaN      NaN      NaN          NaN          NaN  \n",
       "3      NaN      NaN      NaN          1.0          2.0  \n",
       "4      NaN      NaN      NaN          2.0          1.0  \n",
       "\n",
       "[5 rows x 454 columns]"
      ]
     },
     "execution_count": 1,
     "metadata": {},
     "output_type": "execute_result"
    }
   ],
   "source": [
    "import pandas as pd\n",
    "data = pd.read_csv(\"NISPUF17.csv\")\n",
    "data.head()"
   ]
  },
  {
   "cell_type": "code",
   "execution_count": 2,
   "id": "ef8445fa",
   "metadata": {},
   "outputs": [
    {
     "data": {
      "text/plain": [
       "array([4, 3, 1, 2], dtype=int64)"
      ]
     },
     "execution_count": 2,
     "metadata": {},
     "output_type": "execute_result"
    }
   ],
   "source": [
    "data[\"EDUC1\"].unique()"
   ]
  },
  {
   "cell_type": "code",
   "execution_count": 3,
   "id": "48b01d91",
   "metadata": {},
   "outputs": [
    {
     "data": {
      "text/plain": [
       "0    4\n",
       "1    3\n",
       "2    3\n",
       "3    4\n",
       "4    1\n",
       "Name: EDUC1, dtype: int64"
      ]
     },
     "execution_count": 3,
     "metadata": {},
     "output_type": "execute_result"
    }
   ],
   "source": [
    "data[\"EDUC1\"].head()"
   ]
  },
  {
   "cell_type": "markdown",
   "id": "dd13a03f",
   "metadata": {},
   "source": [
    "Example of multiple observation counting and dictionary return. "
   ]
  },
  {
   "cell_type": "code",
   "execution_count": 4,
   "id": "2429a42c",
   "metadata": {},
   "outputs": [],
   "source": [
    "def proportion_of_education():\n",
    "    import pandas as pd\n",
    "    data = pd.read_csv(\"NISPUF17.csv\")\n",
    "    count1 = 0\n",
    "    count2 = 0\n",
    "    count3 = 0\n",
    "    count4 = 0\n",
    "    for num, values in data[\"EDUC1\"].iteritems():\n",
    "        if (values==1):\n",
    "            count1 +=1\n",
    "        if(values==2):\n",
    "            count2 +=1\n",
    "        if (values==3):\n",
    "            count3+=1\n",
    "        if (values==4):\n",
    "            count4+=1\n",
    "    tcount=len(data[\"EDUC1\"])\n",
    "    acount={\"less than high school\":count1/tcount,\n",
    "          \"high school\":count2/tcount,\n",
    "          \"more than high school but not college\":count3/tcount,\n",
    "          \"college\":count4/tcount}\n",
    "    return acount"
   ]
  },
  {
   "cell_type": "code",
   "execution_count": 5,
   "id": "c23c59cf",
   "metadata": {},
   "outputs": [
    {
     "data": {
      "text/plain": [
       "{'less than high school': 0.10202002459160373,\n",
       " 'high school': 0.172352011241876,\n",
       " 'more than high school but not college': 0.24588090637625154,\n",
       " 'college': 0.47974705779026877}"
      ]
     },
     "execution_count": 5,
     "metadata": {},
     "output_type": "execute_result"
    }
   ],
   "source": [
    "proportion_of_education()"
   ]
  },
  {
   "cell_type": "markdown",
   "id": "718786b8",
   "metadata": {},
   "source": [
    "Let's explore the relationship between being fed breastmilk as a child and getting a seasonal influenza vaccine from a healthcare provider. Return a tuple of the average number of influenza vaccines for those children we know received breastmilk as a child and those who know did not."
   ]
  },
  {
   "cell_type": "markdown",
   "id": "cadf636b",
   "metadata": {},
   "source": [
    "Example of one variable with another variable with multiple observations.  "
   ]
  },
  {
   "cell_type": "code",
   "execution_count": 6,
   "id": "8699c9bb",
   "metadata": {},
   "outputs": [],
   "source": [
    "def average_influenza_doses():\n",
    "    data = pd.read_csv(\"NISPUF17.csv\")\n",
    "    data1 = data[[\"CBF_01\",\"P_NUMFLU\"]]\n",
    "    data1 = data1[data[\"P_NUMFLU\"].notna()]\n",
    "    total1 = len(data1[data1[\"CBF_01\"]==1])\n",
    "    total2 = len(data1[data1[\"CBF_01\"]==2])\n",
    "    gotmilk = data1[data1[\"CBF_01\"]==1][\"P_NUMFLU\"].sum()\n",
    "    nogotmilk = data1[data1[\"CBF_01\"]==2][\"P_NUMFLU\"].sum()\n",
    "    return (gotmilk/total1,nogotmilk/total2)"
   ]
  },
  {
   "cell_type": "code",
   "execution_count": 7,
   "id": "32c85d06",
   "metadata": {},
   "outputs": [
    {
     "data": {
      "text/plain": [
       "(1.8799187420058687, 1.5963945918878317)"
      ]
     },
     "execution_count": 7,
     "metadata": {},
     "output_type": "execute_result"
    }
   ],
   "source": [
    "average_influenza_doses()"
   ]
  },
  {
   "cell_type": "markdown",
   "id": "f58673f1",
   "metadata": {},
   "source": [
    "It would be interesting to see if there is any evidence of a link between vaccine effectiveness and sex of the child. Calculate the ratio of the number of children who contracted chickenpox but were vaccinated against it (at least one varicella dose) versus those who were vaccinated but did not contract chicken pox. Return results by sex."
   ]
  },
  {
   "cell_type": "markdown",
   "id": "b0a1ba32",
   "metadata": {},
   "source": [
    "Two observation variable against two observation variable."
   ]
  },
  {
   "cell_type": "code",
   "execution_count": 8,
   "id": "47d0daf7",
   "metadata": {},
   "outputs": [],
   "source": [
    "def chickenpox_by_sex():\n",
    "    data = pd.read_csv(\"NISPUF17.csv\")\n",
    "    dict={}       # setting up a dictionary output\n",
    "    data = data[data[\"P_NUMVRC\"]>=1]\n",
    "    data1 = data[data[\"HAD_CPOX\"]==1]\n",
    "    data2 = data[data[\"HAD_CPOX\"]==2]\n",
    "    mhcp = len(data1[data1[\"SEX\"]==1])\n",
    "    mnhcp = len(data2[data2[\"SEX\"]==1])\n",
    "    fhcp = len(data1[data1[\"SEX\"]==2])\n",
    "    fnhcp = len(data2[data2[\"SEX\"]==2])\n",
    "    dict[\"male\"] = mhcp/mnhcp\n",
    "    dict[\"female\"] = fhcp/fnhcp\n",
    "    return dict"
   ]
  },
  {
   "cell_type": "code",
   "execution_count": 9,
   "id": "aea380f3",
   "metadata": {},
   "outputs": [
    {
     "data": {
      "text/plain": [
       "{'male': 0.009675583380762664, 'female': 0.0077918259335489565}"
      ]
     },
     "execution_count": 9,
     "metadata": {},
     "output_type": "execute_result"
    }
   ],
   "source": [
    "chickenpox_by_sex()"
   ]
  },
  {
   "cell_type": "markdown",
   "id": "bc913a6f",
   "metadata": {},
   "source": [
    "A correlation is a statistical relationship between two variables. If we wanted to know if vaccines work, we might look at the correlation between the use of the vaccine and whether it results in prevention of the infection or disease [1]. In this question, you are to see if there is a correlation between having had the chicken pox and the number of chickenpox vaccine doses given (varicella)."
   ]
  },
  {
   "cell_type": "markdown",
   "id": "25d9bb2a",
   "metadata": {},
   "source": [
    "Correlation function with pearsonr index"
   ]
  },
  {
   "cell_type": "code",
   "execution_count": 10,
   "id": "d0f47154",
   "metadata": {},
   "outputs": [],
   "source": [
    "def corr_chickenpox():\n",
    "    import scipy.stats as stats\n",
    "    import numpy as np\n",
    "    import pandas as pd\n",
    "    data = pd.read_csv(\"NISPUF17.csv\")\n",
    "    data1 = data[[\"HAD_CPOX\",\"P_NUMVRC\"]]\n",
    "    data1 = data1[data1[\"HAD_CPOX\"]<=3]  # We just want the observation 1 or 2 \n",
    "    data1 = data1[data1[\"P_NUMVRC\"].notna()]\n",
    "    corr, pval = stats.pearsonr(data1[\"HAD_CPOX\"],data1[\"P_NUMVRC\"])\n",
    "    return corr"
   ]
  },
  {
   "cell_type": "code",
   "execution_count": 11,
   "id": "dc14cbc0",
   "metadata": {},
   "outputs": [
    {
     "data": {
      "text/plain": [
       "0.0704487346014804"
      ]
     },
     "execution_count": 11,
     "metadata": {},
     "output_type": "execute_result"
    }
   ],
   "source": [
    "corr_chickenpox()"
   ]
  }
 ],
 "metadata": {
  "kernelspec": {
   "display_name": "Python 3 (ipykernel)",
   "language": "python",
   "name": "python3"
  },
  "language_info": {
   "codemirror_mode": {
    "name": "ipython",
    "version": 3
   },
   "file_extension": ".py",
   "mimetype": "text/x-python",
   "name": "python",
   "nbconvert_exporter": "python",
   "pygments_lexer": "ipython3",
   "version": "3.9.7"
  }
 },
 "nbformat": 4,
 "nbformat_minor": 5
}
