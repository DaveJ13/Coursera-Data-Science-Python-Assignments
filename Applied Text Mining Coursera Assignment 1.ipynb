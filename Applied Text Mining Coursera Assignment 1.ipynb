{
 "cells": [
  {
   "cell_type": "code",
   "execution_count": 1,
   "id": "b2a8a14d",
   "metadata": {},
   "outputs": [
    {
     "data": {
      "text/plain": [
       "0         03/25/93 Total time of visit (in minutes):\\n\n",
       "1                       6/18/85 Primary Care Doctor:\\n\n",
       "2    sshe plans to move as of 7/8/71 In-Home Servic...\n",
       "3                7 on 9/27/75 Audit C Score Current:\\n\n",
       "4    2/6/96 sleep studyPain Treatment Pain Level (N...\n",
       "5                    .Per 7/06/79 Movement D/O note:\\n\n",
       "6    4, 5/18/78 Patient's thoughts about current su...\n",
       "7    10/24/89 CPT Code: 90801 - Psychiatric Diagnos...\n",
       "8                         3/7/86 SOS-10 Total Score:\\n\n",
       "9             (4/10/71)Score-1Audit C Score Current:\\n\n",
       "dtype: object"
      ]
     },
     "execution_count": 1,
     "metadata": {},
     "output_type": "execute_result"
    }
   ],
   "source": [
    "import pandas as pd\n",
    "import re\n",
    "import numpy as np\n",
    "\n",
    "doc = []\n",
    "with open('dates.txt') as file:\n",
    "    for line in file:\n",
    "        doc.append(line)\n",
    "\n",
    "df = pd.Series(doc)\n",
    "df.head(10)"
   ]
  },
  {
   "cell_type": "code",
   "execution_count": 2,
   "id": "436d4f07",
   "metadata": {},
   "outputs": [],
   "source": [
    "df1 = pd.DataFrame(df, columns = [\"text\"])"
   ]
  },
  {
   "cell_type": "code",
   "execution_count": 3,
   "id": "a850917e",
   "metadata": {},
   "outputs": [
    {
     "name": "stderr",
     "output_type": "stream",
     "text": [
      "C:\\Users\\Administrator\\AppData\\Local\\Temp\\ipykernel_7992\\19235034.py:2: FutureWarning: The default value of regex will change from True to False in a future version.\n",
      "  df1[\"text\"] = df1[\"text\"].str.replace(r\"\\d{5}\", \"\")\n"
     ]
    },
    {
     "data": {
      "text/plain": [
       "0        9\n",
       "1       84\n",
       "2        2\n",
       "3       53\n",
       "4       28\n",
       "      ... \n",
       "495    427\n",
       "496    141\n",
       "497    186\n",
       "498    161\n",
       "499    413\n",
       "Length: 500, dtype: int64"
      ]
     },
     "execution_count": 3,
     "metadata": {},
     "output_type": "execute_result"
    }
   ],
   "source": [
    "import numpy as np\n",
    "df1[\"text\"] = df1[\"text\"].str.replace(r\"\\d{5}\", \"\")\n",
    "df1[\"text\"] = df1[\"text\"].str.replace(\"9080\", \"\")\n",
    "df1[\"text\"] = df1[\"text\"].str.replace(\"9079\", \"\")\n",
    "df1[\"text\"] = df1[\"text\"].str.replace(\"9920\", \"\")\n",
    "df1[\"text\"] = df1[\"text\"].str.replace(\"9/36/308\", \"\")\n",
    "df1[\"text\"] = df1[\"text\"].str.replace(\"7787\", \"\")\n",
    "df1[\"text\"] = df1[\"text\"].str.replace(\"Janaury\", \"January\")\n",
    "df1[\"text\"] = df1[\"text\"].str.replace(\"Decemeber\", \"December\")\n",
    "#pd.set_option(\"display.max_rows\", None, \"display.max_columns\", None)\n",
    "df2 = df1[\"text\"].str.extractall(r'((?:\\d{,2}\\s)?(?:Jan|Feb|Mar|Apr|May|Jun|Jul|Aug|Sep|Oct|Nov|Dec)[a-z]*(?:-|\\.|\\s|,)\\s?\\d{,2}[a-z]*(?:-|,|\\s)?\\s?\\d{2,4})|((?:\\d{1,2})(?:(?:\\/|-)\\d{1,2})(?:(?:\\/|-)\\d{2,4}))|((?:\\d{1,2}(?:-|\\/))?\\d{4})')\n",
    "df2[\"extract_date\"] = df2.apply(lambda x: ''.join(x.dropna().astype(str)), axis = 1)\n",
    "df2[\"dates\"] = pd.to_datetime(df2[\"extract_date\"], errors = \"coerce\", infer_datetime_format = True)\n",
    "df2['dates'] = np.where(df2['dates'].dt.year > 2022, df2['dates'] - pd.offsets.DateOffset(years=100), df2['dates'])\n",
    "ranked = pd.Series([i[0] for i in sorted(enumerate(df2['dates']), key=lambda x:x[1])],np.arange(500))\n",
    "ranked"
   ]
  },
  {
   "cell_type": "code",
   "execution_count": 4,
   "id": "f34527c6",
   "metadata": {},
   "outputs": [
    {
     "name": "stderr",
     "output_type": "stream",
     "text": [
      "C:\\Users\\Administrator\\AppData\\Local\\Temp\\ipykernel_7992\\2206529204.py:13: FutureWarning: The default value of regex will change from True to False in a future version.\n",
      "  df1[\"text\"] = df1[\"text\"].str.replace(r\"\\d{5}\", \"\")\n"
     ]
    },
    {
     "data": {
      "text/plain": [
       "0        9\n",
       "1       84\n",
       "2        2\n",
       "3       53\n",
       "4       28\n",
       "      ... \n",
       "495    427\n",
       "496    141\n",
       "497    186\n",
       "498    161\n",
       "499    413\n",
       "Length: 500, dtype: int64"
      ]
     },
     "execution_count": 4,
     "metadata": {},
     "output_type": "execute_result"
    }
   ],
   "source": [
    "def date_sorter():\n",
    "    import pandas as pd\n",
    "    import re\n",
    "    import numpy as np\n",
    "    doc = []\n",
    "    with open('dates.txt') as file:\n",
    "        for line in file:\n",
    "            doc.append(line)\n",
    "\n",
    "    df = pd.Series(doc)\n",
    "    # Your code here\n",
    "    df1 = pd.DataFrame(df, columns = [\"text\"])\n",
    "    df1[\"text\"] = df1[\"text\"].str.replace(r\"\\d{5}\", \"\")\n",
    "    df1[\"text\"] = df1[\"text\"].str.replace(\"9080\", \"\")\n",
    "    df1[\"text\"] = df1[\"text\"].str.replace(\"9079\", \"\")\n",
    "    df1[\"text\"] = df1[\"text\"].str.replace(\"9920\", \"\")\n",
    "    df1[\"text\"] = df1[\"text\"].str.replace(\"9/36/308\", \"\")\n",
    "    df1[\"text\"] = df1[\"text\"].str.replace(\"7787\", \"\")\n",
    "    df1[\"text\"] = df1[\"text\"].str.replace(\"Janaury\", \"January\")\n",
    "    df1[\"text\"] = df1[\"text\"].str.replace(\"Decemeber\", \"December\")\n",
    "    df2 = df1[\"text\"].str.extractall(r'((?:\\d{,2}\\s)?(?:Jan|Feb|Mar|Apr|May|Jun|Jul|Aug|Sep|Oct|Nov|Dec)[a-z]*(?:-|\\.|\\s|,)\\s?\\d{,2}[a-z]*(?:-|,|\\s)?\\s?\\d{2,4})|((?:\\d{1,2})(?:(?:\\/|-)\\d{1,2})(?:(?:\\/|-)\\d{2,4}))|((?:\\d{1,2}(?:-|\\/))?\\d{4})')\n",
    "    df2[\"extract_date\"] = df2.apply(lambda x: ''.join(x.dropna().astype(str)), axis = 1)\n",
    "    df2[\"dates\"] = pd.to_datetime(df2[\"extract_date\"], errors = \"coerce\", infer_datetime_format = True)\n",
    "    df2['dates'] = np.where(df2['dates'].dt.year > 2022, df2['dates'] - pd.offsets.DateOffset(years=100), df2['dates'])\n",
    "    ranks = pd.Series([i[0] for i in sorted(enumerate(df2['dates']), key=lambda x:x[1])],np.arange(500))\n",
    "    return ranks\n",
    "date_sorter()"
   ]
  },
  {
   "cell_type": "code",
   "execution_count": null,
   "id": "3e3657ac",
   "metadata": {},
   "outputs": [],
   "source": []
  }
 ],
 "metadata": {
  "kernelspec": {
   "display_name": "Python 3 (ipykernel)",
   "language": "python",
   "name": "python3"
  },
  "language_info": {
   "codemirror_mode": {
    "name": "ipython",
    "version": 3
   },
   "file_extension": ".py",
   "mimetype": "text/x-python",
   "name": "python",
   "nbconvert_exporter": "python",
   "pygments_lexer": "ipython3",
   "version": "3.9.7"
  }
 },
 "nbformat": 4,
 "nbformat_minor": 5
}
